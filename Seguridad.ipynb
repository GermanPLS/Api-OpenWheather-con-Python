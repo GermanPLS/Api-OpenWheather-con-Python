{
  "nbformat": 4,
  "nbformat_minor": 0,
  "metadata": {
    "colab": {
      "provenance": [],
      "toc_visible": true
    },
    "kernelspec": {
      "name": "python3",
      "display_name": "Python 3"
    },
    "language_info": {
      "name": "python"
    }
  },
  "cells": [
    {
      "cell_type": "markdown",
      "source": [
        "Es una excelente práctica no almacenar credenciales sensibles como claves de API, nombres de usuario y contraseñas directamente en el código, especialmente si este código puede ser compartido o subido a un repositorio público. Aquí tienes algunas estrategias recomendadas para proteger esas credenciales:"
      ],
      "metadata": {
        "id": "pCN5J04aLJxf"
      }
    },
    {
      "cell_type": "markdown",
      "source": [
        "## 1 - Usar variables de entorno\n",
        "Las variables de entorno permiten almacenar credenciales fuera del código. Estas se configuran en el sistema operativo y se pueden leer desde tu script."
      ],
      "metadata": {
        "id": "2d80wOIbLJrQ"
      }
    },
    {
      "cell_type": "markdown",
      "source": [
        "- Definir variables de entorno en tu sistema operativo o en un archivo .env:"
      ],
      "metadata": {
        "id": "i8y9M2MFLksi"
      }
    },
    {
      "cell_type": "code",
      "source": [
        "export OPENWEATHER_API_KEY=\"8d89cc8ae9ca5fd454b04bc96d110aba\"\n"
      ],
      "metadata": {
        "id": "7Bq38gqmLmjq"
      },
      "execution_count": null,
      "outputs": []
    },
    {
      "cell_type": "markdown",
      "source": [
        "- Leer las variables de entorno en tu código Python:"
      ],
      "metadata": {
        "id": "xBE9cDdgLvir"
      }
    },
    {
      "cell_type": "code",
      "source": [
        "import os\n",
        "\n",
        "api_key = os.getenv(\"OPENWEATHER_API_KEY\")\n",
        "base_url = \"http://api.openweathermap.org/data/2.5/weather?\"\n",
        "\n",
        "print(base_url)\n",
        "\n"
      ],
      "metadata": {
        "id": "oPCqCSlLLwvz"
      },
      "execution_count": null,
      "outputs": []
    },
    {
      "cell_type": "markdown",
      "source": [
        "## 2 - Usar un archivo de configuración (por ejemplo: config.ini o config.json)"
      ],
      "metadata": {
        "id": "ZzXZsBNgL6ic"
      }
    },
    {
      "cell_type": "markdown",
      "source": [
        "puedes usar un archivo de configuración como .ini para guardar tus credenciales de forma ordenada."
      ],
      "metadata": {
        "id": "r9mRVrXPL-kF"
      }
    },
    {
      "cell_type": "markdown",
      "source": [
        "- Archivo config.ini:"
      ],
      "metadata": {
        "id": "RgcVdz3xMCFV"
      }
    },
    {
      "cell_type": "code",
      "source": [
        "[openweathermap]\n",
        "api_key = 8d89cc8ae9ca5fd454b04bc96d110aba\n"
      ],
      "metadata": {
        "id": "rps5HX18MFF1"
      },
      "execution_count": null,
      "outputs": []
    },
    {
      "cell_type": "markdown",
      "source": [
        "- Leer el archivo en tu código:"
      ],
      "metadata": {
        "id": "SE-9vZSGMH-O"
      }
    },
    {
      "cell_type": "code",
      "source": [
        "import configparser\n",
        "\n",
        "# Crear un objeto ConfigParser\n",
        "config = configparser.ConfigParser()\n",
        "\n",
        "# Leer el archivo de configuración\n",
        "config.read('config.ini')\n",
        "\n",
        "# Acceder a la API Key\n",
        "api_key = config.get('openweathermap', 'api_key')\n",
        "\n",
        "# Definir la URL base de la API\n",
        "base_url = \"http://api.openweathermap.org/data/2.5/weather?\"\n",
        "\n",
        "# Imprimir la URL base y la clave de la API (solo para ejemplo)\n",
        "print(base_url)\n",
        "print(\"API Key:\", api_key)\n",
        "\n"
      ],
      "metadata": {
        "id": "ky5UXMPXMMvm"
      },
      "execution_count": null,
      "outputs": []
    },
    {
      "cell_type": "markdown",
      "source": [
        "## 3 - Ignorar el archivo de configuración en Git (si usas Git)"
      ],
      "metadata": {
        "id": "o3aVA1kHNDoz"
      }
    },
    {
      "cell_type": "markdown",
      "source": [
        "Para evitar que tu archivo config.ini se suba a un repositorio público, es recomendable agregarlo a tu archivo .gitignore. Si no tienes un archivo .gitignore en tu proyecto, crea uno con el siguiente contenido:"
      ],
      "metadata": {
        "id": "Z9lgD_22NHVD"
      }
    },
    {
      "cell_type": "code",
      "source": [
        "# .gitignore\n",
        "config.ini\n"
      ],
      "metadata": {
        "id": "gILJZ1dkNIbs"
      },
      "execution_count": null,
      "outputs": []
    },
    {
      "cell_type": "markdown",
      "source": [
        "Esto evitará que el archivo config.ini se suba a GitHub o cualquier otro servicio de control de versiones."
      ],
      "metadata": {
        "id": "6Bpgs3aNNL7s"
      }
    },
    {
      "cell_type": "code",
      "source": [
        "my_project/\n",
        "├── config.ini\n",
        "├── main.py\n",
        "└── .gitignore\n"
      ],
      "metadata": {
        "id": "WVsHJ-L5NQrV"
      },
      "execution_count": null,
      "outputs": []
    },
    {
      "cell_type": "markdown",
      "source": [
        "Resumen\n",
        "\n",
        "- Crear config.ini con la API Key.\n",
        "- Leer la clave usando configparser.\n",
        "- Evitar subir el archivo a repositorios públicos agregándolo a .gitignore."
      ],
      "metadata": {
        "id": "l2QvWxWHNRov"
      }
    },
    {
      "cell_type": "markdown",
      "source": [
        "## 4 - Ocultar la clave de API"
      ],
      "metadata": {
        "id": "BfzbDBnhSIKa"
      }
    },
    {
      "cell_type": "code",
      "source": [
        "import os\n",
        "api_key = os.getenv(\"OPENWEATHER_API_KEY\")\n"
      ],
      "metadata": {
        "id": "F0RYXoucSU6E"
      },
      "execution_count": null,
      "outputs": []
    }
  ]
}